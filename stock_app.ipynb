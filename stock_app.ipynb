{
 "cells": [
  {
   "cell_type": "code",
   "execution_count": 3,
   "id": "140cb495",
   "metadata": {},
   "outputs": [
    {
     "name": "stdout",
     "output_type": "stream",
     "text": [
      "Note: you may need to restart the kernel to use updated packages.Collecting dash\n",
      "  Obtaining dependency information for dash from https://files.pythonhosted.org/packages/9b/b4/d522c16b41a8da013fd60a67f9618e57c504cd2c80e02a7a861413b93906/dash-2.13.0-py3-none-any.whl.metadata\n",
      "  Downloading dash-2.13.0-py3-none-any.whl.metadata (11 kB)\n",
      "Requirement already satisfied: Flask<2.3.0,>=1.0.4 in c:\\users\\this pc\\anaconda3\\lib\\site-packages (from dash) (2.2.2)\n",
      "Requirement already satisfied: Werkzeug<2.3.0 in c:\\users\\this pc\\anaconda3\\lib\\site-packages (from dash) (2.2.3)\n",
      "Requirement already satisfied: plotly>=5.0.0 in c:\\users\\this pc\\anaconda3\\lib\\site-packages (from dash) (5.9.0)\n",
      "Collecting dash-html-components==2.0.0 (from dash)\n",
      "  Downloading dash_html_components-2.0.0-py3-none-any.whl (4.1 kB)\n",
      "Collecting dash-core-components==2.0.0 (from dash)\n",
      "  Downloading dash_core_components-2.0.0-py3-none-any.whl (3.8 kB)\n",
      "Collecting dash-table==5.0.0 (from dash)\n",
      "  Downloading dash_table-5.0.0-py3-none-any.whl (3.9 kB)\n",
      "Requirement already satisfied: typing-extensions>=4.1.1 in c:\\users\\this pc\\anaconda3\\lib\\site-packages (from dash) (4.5.0)\n",
      "Requirement already satisfied: requests in c:\\users\\this pc\\anaconda3\\lib\\site-packages (from dash) (2.29.0)\n",
      "Collecting retrying (from dash)\n",
      "  Downloading retrying-1.3.4-py3-none-any.whl (11 kB)\n",
      "Collecting ansi2html (from dash)\n",
      "  Downloading ansi2html-1.8.0-py3-none-any.whl (16 kB)\n",
      "Requirement already satisfied: nest-asyncio in c:\\users\\this pc\\anaconda3\\lib\\site-packages (from dash) (1.5.6)\n",
      "Requirement already satisfied: setuptools in c:\\users\\this pc\\anaconda3\\lib\\site-packages (from dash) (67.8.0)\n",
      "Requirement already satisfied: Jinja2>=3.0 in c:\\users\\this pc\\anaconda3\\lib\\site-packages (from Flask<2.3.0,>=1.0.4->dash) (3.1.2)\n",
      "Requirement already satisfied: itsdangerous>=2.0 in c:\\users\\this pc\\anaconda3\\lib\\site-packages (from Flask<2.3.0,>=1.0.4->dash) (2.0.1)\n",
      "Requirement already satisfied: click>=8.0 in c:\\users\\this pc\\anaconda3\\lib\\site-packages (from Flask<2.3.0,>=1.0.4->dash) (8.0.4)\n",
      "Requirement already satisfied: tenacity>=6.2.0 in c:\\users\\this pc\\anaconda3\\lib\\site-packages (from plotly>=5.0.0->dash) (8.2.2)\n",
      "Requirement already satisfied: MarkupSafe>=2.1.1 in c:\\users\\this pc\\anaconda3\\lib\\site-packages (from Werkzeug<2.3.0->dash) (2.1.1)\n",
      "Requirement already satisfied: charset-normalizer<4,>=2 in c:\\users\\this pc\\anaconda3\\lib\\site-packages (from requests->dash) (2.0.4)\n",
      "Requirement already satisfied: idna<4,>=2.5 in c:\\users\\this pc\\anaconda3\\lib\\site-packages (from requests->dash) (3.4)\n",
      "Requirement already satisfied: urllib3<1.27,>=1.21.1 in c:\\users\\this pc\\anaconda3\\lib\\site-packages (from requests->dash) (1.26.16)\n",
      "Requirement already satisfied: certifi>=2017.4.17 in c:\\users\\this pc\\anaconda3\\lib\\site-packages (from requests->dash) (2023.5.7)\n",
      "Requirement already satisfied: six>=1.7.0 in c:\\users\\this pc\\anaconda3\\lib\\site-packages (from retrying->dash) (1.16.0)\n",
      "Requirement already satisfied: colorama in c:\\users\\this pc\\anaconda3\\lib\\site-packages (from click>=8.0->Flask<2.3.0,>=1.0.4->dash) (0.4.6)\n",
      "Downloading dash-2.13.0-py3-none-any.whl (10.4 MB)\n",
      "   ---------------------------------------- 0.0/10.4 MB ? eta -:--:--\n",
      "    --------------------------------------- 0.2/10.4 MB 6.9 MB/s eta 0:00:02\n",
      "   -- ------------------------------------- 0.6/10.4 MB 7.9 MB/s eta 0:00:02\n",
      "   ----- ---------------------------------- 1.3/10.4 MB 9.4 MB/s eta 0:00:01\n",
      "   --------- ------------------------------ 2.5/10.4 MB 12.1 MB/s eta 0:00:01\n",
      "   -------------- ------------------------- 3.8/10.4 MB 14.2 MB/s eta 0:00:01\n",
      "   ----------------- ---------------------- 4.5/10.4 MB 14.4 MB/s eta 0:00:01\n",
      "   --------------------- ------------------ 5.5/10.4 MB 14.6 MB/s eta 0:00:01\n",
      "   -------------------------- ------------- 6.7/10.4 MB 15.4 MB/s eta 0:00:01\n",
      "   ----------------------------------- ---- 9.1/10.4 MB 18.8 MB/s eta 0:00:01\n",
      "   ---------------------------------------  10.4/10.4 MB 19.8 MB/s eta 0:00:01\n",
      "   ---------------------------------------  10.4/10.4 MB 19.8 MB/s eta 0:00:01\n",
      "   ---------------------------------------- 10.4/10.4 MB 16.4 MB/s eta 0:00:00\n",
      "Installing collected packages: dash-table, dash-html-components, dash-core-components, retrying, ansi2html, dash\n",
      "Successfully installed ansi2html-1.8.0 dash-2.13.0 dash-core-components-2.0.0 dash-html-components-2.0.0 dash-table-5.0.0 retrying-1.3.4\n",
      "\n"
     ]
    },
    {
     "name": "stderr",
     "output_type": "stream",
     "text": [
      "\n",
      "[notice] A new release of pip is available: 23.2 -> 23.2.1\n",
      "[notice] To update, run: python.exe -m pip install --upgrade pip\n"
     ]
    }
   ],
   "source": [
    "pip install dash"
   ]
  },
  {
   "cell_type": "code",
   "execution_count": 5,
   "id": "4ab31fc4",
   "metadata": {},
   "outputs": [
    {
     "name": "stdout",
     "output_type": "stream",
     "text": [
      "Requirement already satisfied: dash-html-components in c:\\users\\this pc\\anaconda3\\lib\\site-packages (2.0.0)Note: you may need to restart the kernel to use updated packages.\n",
      "\n"
     ]
    },
    {
     "name": "stderr",
     "output_type": "stream",
     "text": [
      "\n",
      "[notice] A new release of pip is available: 23.2 -> 23.2.1\n",
      "[notice] To update, run: python.exe -m pip install --upgrade pip\n"
     ]
    }
   ],
   "source": [
    "pip install dash-html-components"
   ]
  },
  {
   "cell_type": "code",
   "execution_count": 6,
   "id": "96fc953c",
   "metadata": {},
   "outputs": [
    {
     "name": "stdout",
     "output_type": "stream",
     "text": [
      "Requirement already satisfied: dash-core-components in c:\\users\\this pc\\anaconda3\\lib\\site-packages (2.0.0)\n",
      "Note: you may need to restart the kernel to use updated packages.\n"
     ]
    },
    {
     "name": "stderr",
     "output_type": "stream",
     "text": [
      "\n",
      "[notice] A new release of pip is available: 23.2 -> 23.2.1\n",
      "[notice] To update, run: python.exe -m pip install --upgrade pip\n"
     ]
    }
   ],
   "source": [
    "pip install dash-core-components"
   ]
  },
  {
   "cell_type": "code",
   "execution_count": 41,
   "id": "88bac355",
   "metadata": {
    "lines_to_next_cell": 2
   },
   "outputs": [],
   "source": [
    "import dash\n",
    "import dash_core_components as dcc\n",
    "import dash_html_components as html\n",
    "import pandas as pd\n",
    "import plotly.graph_objs as go\n",
    "from dash.dependencies import Input, Output\n",
    "from keras.models import load_model\n",
    "from sklearn.preprocessing import MinMaxScaler\n",
    "import numpy as np"
   ]
  },
  {
   "cell_type": "code",
   "execution_count": 42,
   "id": "e6dc91e6",
   "metadata": {},
   "outputs": [],
   "source": [
    "app = dash.Dash()\n",
    "server = app.server"
   ]
  },
  {
   "cell_type": "code",
   "execution_count": 44,
   "id": "f9b01dc6",
   "metadata": {},
   "outputs": [],
   "source": [
    "scaler=MinMaxScaler(feature_range=(0,1))"
   ]
  },
  {
   "cell_type": "code",
   "execution_count": 45,
   "id": "f3d53c04",
   "metadata": {},
   "outputs": [],
   "source": [
    "df_nse = pd.read_csv(\"./NSE-TATA.csv\")"
   ]
  },
  {
   "cell_type": "code",
   "execution_count": 46,
   "id": "12211231",
   "metadata": {
    "lines_to_next_cell": 2
   },
   "outputs": [],
   "source": [
    "df_nse[\"Date\"]=pd.to_datetime(df_nse.Date,format=\"%Y-%m-%d\")\n",
    "df_nse.index=df_nse['Date']"
   ]
  },
  {
   "cell_type": "code",
   "execution_count": 47,
   "id": "8c10a91d",
   "metadata": {},
   "outputs": [],
   "source": [
    "data=df_nse.sort_index(ascending=True,axis=0)\n",
    "new_data=pd.DataFrame(index=range(0,len(df_nse)),columns=['Date','Close'])"
   ]
  },
  {
   "cell_type": "code",
   "execution_count": 48,
   "id": "d28b53bc",
   "metadata": {},
   "outputs": [],
   "source": [
    "for i in range(0,len(data)):\n",
    "    new_data[\"Date\"][i]=data['Date'][i]\n",
    "    new_data[\"Close\"][i]=data[\"Close\"][i]"
   ]
  },
  {
   "cell_type": "code",
   "execution_count": 49,
   "id": "5df8dc23",
   "metadata": {},
   "outputs": [],
   "source": [
    "new_data.index=new_data.Date\n",
    "new_data.drop(\"Date\",axis=1,inplace=True)"
   ]
  },
  {
   "cell_type": "code",
   "execution_count": 50,
   "id": "d05a6f68",
   "metadata": {},
   "outputs": [],
   "source": [
    "dataset=new_data.values"
   ]
  },
  {
   "cell_type": "code",
   "execution_count": 51,
   "id": "914ba01b",
   "metadata": {},
   "outputs": [],
   "source": [
    "train=dataset[0:987,:]\n",
    "valid=dataset[987:,:]"
   ]
  },
  {
   "cell_type": "code",
   "execution_count": 52,
   "id": "e5ebc7a6",
   "metadata": {},
   "outputs": [],
   "source": [
    "scaler=MinMaxScaler(feature_range=(0,1))\n",
    "scaled_data=scaler.fit_transform(dataset)"
   ]
  },
  {
   "cell_type": "code",
   "execution_count": 53,
   "id": "ccd88621",
   "metadata": {},
   "outputs": [],
   "source": [
    "x_train,y_train=[],[]"
   ]
  },
  {
   "cell_type": "code",
   "execution_count": 54,
   "id": "1efdd785",
   "metadata": {},
   "outputs": [],
   "source": [
    "for i in range(60,len(train)):\n",
    "    x_train.append(scaled_data[i-60:i,0])\n",
    "    y_train.append(scaled_data[i,0])"
   ]
  },
  {
   "cell_type": "code",
   "execution_count": 55,
   "id": "8b861aa3",
   "metadata": {},
   "outputs": [],
   "source": [
    "x_train,y_train=np.array(x_train),np.array(y_train)"
   ]
  },
  {
   "cell_type": "code",
   "execution_count": 56,
   "id": "483ffb18",
   "metadata": {},
   "outputs": [],
   "source": [
    "x_train=np.reshape(x_train,(x_train.shape[0],x_train.shape[1],1))"
   ]
  },
  {
   "cell_type": "code",
   "execution_count": 57,
   "id": "dac8418f",
   "metadata": {},
   "outputs": [],
   "source": [
    "model=load_model(\"saved_lstm_model.h5\")"
   ]
  },
  {
   "cell_type": "code",
   "execution_count": 58,
   "id": "6d4d2391",
   "metadata": {},
   "outputs": [],
   "source": [
    "inputs=new_data[len(new_data)-len(valid)-60:].values\n",
    "inputs=inputs.reshape(-1,1)\n",
    "inputs=scaler.transform(inputs)"
   ]
  },
  {
   "cell_type": "code",
   "execution_count": 59,
   "id": "e0fbe051",
   "metadata": {},
   "outputs": [],
   "source": [
    "X_test=[]\n",
    "for i in range(60,inputs.shape[0]):\n",
    "    X_test.append(inputs[i-60:i,0])\n",
    "X_test=np.array(X_test)"
   ]
  },
  {
   "cell_type": "code",
   "execution_count": 60,
   "id": "f57622f7",
   "metadata": {},
   "outputs": [
    {
     "name": "stdout",
     "output_type": "stream",
     "text": [
      "8/8 [==============================] - 3s 36ms/step\n"
     ]
    }
   ],
   "source": [
    "X_test=np.reshape(X_test,(X_test.shape[0],X_test.shape[1],1))\n",
    "closing_price=model.predict(X_test)\n",
    "closing_price=scaler.inverse_transform(closing_price)"
   ]
  },
  {
   "cell_type": "code",
   "execution_count": 61,
   "id": "77afecab",
   "metadata": {},
   "outputs": [
    {
     "name": "stderr",
     "output_type": "stream",
     "text": [
      "C:\\Users\\THIS PC\\AppData\\Local\\Temp\\ipykernel_1248\\1968369711.py:3: SettingWithCopyWarning:\n",
      "\n",
      "\n",
      "A value is trying to be set on a copy of a slice from a DataFrame.\n",
      "Try using .loc[row_indexer,col_indexer] = value instead\n",
      "\n",
      "See the caveats in the documentation: https://pandas.pydata.org/pandas-docs/stable/user_guide/indexing.html#returning-a-view-versus-a-copy\n",
      "\n"
     ]
    }
   ],
   "source": [
    "train=new_data[:987]\n",
    "valid=new_data[987:]\n",
    "valid['Predictions']=closing_price"
   ]
  },
  {
   "cell_type": "code",
   "execution_count": null,
   "id": "afcf21b6",
   "metadata": {},
   "outputs": [],
   "source": []
  },
  {
   "cell_type": "code",
   "execution_count": 62,
   "id": "8c66a9f9",
   "metadata": {},
   "outputs": [],
   "source": [
    "df= pd.read_csv(\"./stock_data.csv\")"
   ]
  },
  {
   "cell_type": "code",
   "execution_count": 63,
   "id": "2641c588",
   "metadata": {},
   "outputs": [],
   "source": [
    "app.layout = html.Div([\n",
    "   \n",
    "    html.H1(\"Stock Price Analysis Dashboard\", style={\"textAlign\": \"center\"}),\n",
    "   \n",
    "    dcc.Tabs(id=\"tabs\", children=[\n",
    "       \n",
    "        dcc.Tab(label='NSE-TATAGLOBAL Stock Data',children=[\n",
    "\t\t\thtml.Div([\n",
    "\t\t\t\thtml.H2(\"Actual closing price\",style={\"textAlign\": \"center\"}),\n",
    "\t\t\t\tdcc.Graph(\n",
    "\t\t\t\t\tid=\"Actual Data\",\n",
    "\t\t\t\t\tfigure={\n",
    "\t\t\t\t\t\t\"data\":[\n",
    "\t\t\t\t\t\t\tgo.Scatter(\n",
    "\t\t\t\t\t\t\t\tx=train.index,\n",
    "\t\t\t\t\t\t\t\ty=valid[\"Close\"],\n",
    "\t\t\t\t\t\t\t\tmode='markers'\n",
    "\t\t\t\t\t\t\t)\n",
    "\n",
    "\t\t\t\t\t\t],\n",
    "\t\t\t\t\t\t\"layout\":go.Layout(\n",
    "\t\t\t\t\t\t\ttitle='scatter plot',\n",
    "\t\t\t\t\t\t\txaxis={'title':'Date'},\n",
    "\t\t\t\t\t\t\tyaxis={'title':'Closing Rate'}\n",
    "\t\t\t\t\t\t)\n",
    "\t\t\t\t\t}\n",
    "\n",
    "\t\t\t\t),\n",
    "\t\t\t\thtml.H2(\"LSTM Predicted closing price\",style={\"textAlign\": \"center\"}),\n",
    "\t\t\t\tdcc.Graph(\n",
    "\t\t\t\t\tid=\"Predicted Data\",\n",
    "\t\t\t\t\tfigure={\n",
    "\t\t\t\t\t\t\"data\":[\n",
    "\t\t\t\t\t\t\tgo.Scatter(\n",
    "\t\t\t\t\t\t\t\tx=valid.index,\n",
    "\t\t\t\t\t\t\t\ty=valid[\"Predictions\"],\n",
    "\t\t\t\t\t\t\t\tmode='markers'\n",
    "\t\t\t\t\t\t\t)\n",
    "\n",
    "\t\t\t\t\t\t],\n",
    "\t\t\t\t\t\t\"layout\":go.Layout(\n",
    "\t\t\t\t\t\t\ttitle='scatter plot',\n",
    "\t\t\t\t\t\t\txaxis={'title':'Date'},\n",
    "\t\t\t\t\t\t\tyaxis={'title':'Closing Rate'}\n",
    "\t\t\t\t\t\t)\n",
    "\t\t\t\t\t}\n",
    "\n",
    "\t\t\t\t)\t\t\t\t\n",
    "\t\t\t])        \t\t\n",
    "\n",
    "\n",
    "        ]),\n",
    "        dcc.Tab(label='Facebook Stock Data', children=[\n",
    "            html.Div([\n",
    "                html.H1(\"Stocks High vs Lows\", \n",
    "                        style={'textAlign': 'center'}),\n",
    "              \n",
    "                dcc.Dropdown(id='my-dropdown',\n",
    "                             options=[{'label': 'Tesla', 'value': 'TSLA'},\n",
    "                                      {'label': 'Apple','value': 'AAPL'}, \n",
    "                                      {'label': 'Facebook', 'value': 'FB'}, \n",
    "                                      {'label': 'Microsoft','value': 'MSFT'}], \n",
    "                             multi=True,value=['FB'],\n",
    "                             style={\"display\": \"block\", \"margin-left\": \"auto\", \n",
    "                                    \"margin-right\": \"auto\", \"width\": \"60%\"}),\n",
    "                dcc.Graph(id='highlow'),\n",
    "                html.H1(\"Stocks Market Volume\", style={'textAlign': 'center'}),\n",
    "         \n",
    "                dcc.Dropdown(id='my-dropdown2',\n",
    "                             options=[{'label': 'Tesla', 'value': 'TSLA'},\n",
    "                                      {'label': 'Apple','value': 'AAPL'}, \n",
    "                                      {'label': 'Facebook', 'value': 'FB'},\n",
    "                                      {'label': 'Microsoft','value': 'MSFT'}], \n",
    "                             multi=True,value=['FB'],\n",
    "                             style={\"display\": \"block\", \"margin-left\": \"auto\", \n",
    "                                    \"margin-right\": \"auto\", \"width\": \"60%\"}),\n",
    "                dcc.Graph(id='volume')\n",
    "            ], className=\"container\"),\n",
    "        ])\n",
    "\n",
    "\n",
    "    ])\n",
    "])"
   ]
  },
  {
   "cell_type": "code",
   "execution_count": null,
   "id": "84c350f6",
   "metadata": {},
   "outputs": [],
   "source": []
  },
  {
   "cell_type": "code",
   "execution_count": null,
   "id": "db17e074",
   "metadata": {},
   "outputs": [],
   "source": []
  },
  {
   "cell_type": "code",
   "execution_count": null,
   "id": "a3e0d60d",
   "metadata": {},
   "outputs": [],
   "source": []
  },
  {
   "cell_type": "code",
   "execution_count": 64,
   "id": "c07f4143",
   "metadata": {},
   "outputs": [],
   "source": [
    "@app.callback(Output('highlow', 'figure'),\n",
    "              [Input('my-dropdown', 'value')])\n",
    "def update_graph(selected_dropdown):\n",
    "    dropdown = {\"TSLA\": \"Tesla\",\"AAPL\": \"Apple\",\"FB\": \"Facebook\",\"MSFT\": \"Microsoft\",}\n",
    "    trace1 = []\n",
    "    trace2 = []\n",
    "    for stock in selected_dropdown:\n",
    "        trace1.append(\n",
    "          go.Scatter(x=df[df[\"Stock\"] == stock][\"Date\"],\n",
    "                     y=df[df[\"Stock\"] == stock][\"High\"],\n",
    "                     mode='lines', opacity=0.7, \n",
    "                     name=f'High {dropdown[stock]}',textposition='bottom center'))\n",
    "        trace2.append(\n",
    "          go.Scatter(x=df[df[\"Stock\"] == stock][\"Date\"],\n",
    "                     y=df[df[\"Stock\"] == stock][\"Low\"],\n",
    "                     mode='lines', opacity=0.6,\n",
    "                     name=f'Low {dropdown[stock]}',textposition='bottom center'))\n",
    "    traces = [trace1, trace2]\n",
    "    data = [val for sublist in traces for val in sublist]\n",
    "    figure = {'data': data,\n",
    "              'layout': go.Layout(colorway=[\"#5E0DAC\", '#FF4F00', '#375CB1', \n",
    "                                            '#FF7400', '#FFF400', '#FF0056'],\n",
    "            height=600,\n",
    "            title=f\"High and Low Prices for {', '.join(str(dropdown[i]) for i in selected_dropdown)} Over Time\",\n",
    "            xaxis={\"title\":\"Date\",\n",
    "                   'rangeselector': {'buttons': list([{'count': 1, 'label': '1M', \n",
    "                                                       'step': 'month', \n",
    "                                                       'stepmode': 'backward'},\n",
    "                                                      {'count': 6, 'label': '6M', \n",
    "                                                       'step': 'month', \n",
    "                                                       'stepmode': 'backward'},\n",
    "                                                      {'step': 'all'}])},\n",
    "                   'rangeslider': {'visible': True}, 'type': 'date'},\n",
    "             yaxis={\"title\":\"Price (USD)\"})}\n",
    "    return figure"
   ]
  },
  {
   "cell_type": "code",
   "execution_count": 65,
   "id": "252b375c",
   "metadata": {},
   "outputs": [],
   "source": [
    "@app.callback(Output('volume', 'figure'),\n",
    "              [Input('my-dropdown2', 'value')])\n",
    "def update_graph(selected_dropdown_value):\n",
    "    dropdown = {\"TSLA\": \"Tesla\",\"AAPL\": \"Apple\",\"FB\": \"Facebook\",\"MSFT\": \"Microsoft\",}\n",
    "    trace1 = []\n",
    "    for stock in selected_dropdown_value:\n",
    "        trace1.append(\n",
    "          go.Scatter(x=df[df[\"Stock\"] == stock][\"Date\"],\n",
    "                     y=df[df[\"Stock\"] == stock][\"Volume\"],\n",
    "                     mode='lines', opacity=0.7,\n",
    "                     name=f'Volume {dropdown[stock]}', textposition='bottom center'))\n",
    "    traces = [trace1]\n",
    "    data = [val for sublist in traces for val in sublist]\n",
    "    figure = {'data': data, \n",
    "              'layout': go.Layout(colorway=[\"#5E0DAC\", '#FF4F00', '#375CB1', \n",
    "                                            '#FF7400', '#FFF400', '#FF0056'],\n",
    "            height=600,\n",
    "            title=f\"Market Volume for {', '.join(str(dropdown[i]) for i in selected_dropdown_value)} Over Time\",\n",
    "            xaxis={\"title\":\"Date\",\n",
    "                   'rangeselector': {'buttons': list([{'count': 1, 'label': '1M', \n",
    "                                                       'step': 'month', \n",
    "                                                       'stepmode': 'backward'},\n",
    "                                                      {'count': 6, 'label': '6M',\n",
    "                                                       'step': 'month', \n",
    "                                                       'stepmode': 'backward'},\n",
    "                                                      {'step': 'all'}])},\n",
    "                   'rangeslider': {'visible': True}, 'type': 'date'},\n",
    "             yaxis={\"title\":\"Transactions Volume\"})}\n",
    "    return figure"
   ]
  },
  {
   "cell_type": "code",
   "execution_count": null,
   "id": "24c75f81",
   "metadata": {},
   "outputs": [],
   "source": []
  },
  {
   "cell_type": "code",
   "execution_count": 66,
   "id": "9f2c32f1",
   "metadata": {},
   "outputs": [
    {
     "data": {
      "text/html": [
       "\n",
       "        <iframe\n",
       "            width=\"100%\"\n",
       "            height=\"650\"\n",
       "            src=\"http://127.0.0.1:8050/\"\n",
       "            frameborder=\"0\"\n",
       "            allowfullscreen\n",
       "            \n",
       "        ></iframe>\n",
       "        "
      ],
      "text/plain": [
       "<IPython.lib.display.IFrame at 0x1f48fa9c390>"
      ]
     },
     "metadata": {},
     "output_type": "display_data"
    }
   ],
   "source": [
    "if __name__=='__main__':\n",
    "\tapp.run_server(debug=True)"
   ]
  },
  {
   "cell_type": "code",
   "execution_count": null,
   "id": "1567ac90",
   "metadata": {},
   "outputs": [],
   "source": []
  }
 ],
 "metadata": {
  "jupytext": {
   "cell_metadata_filter": "-all",
   "main_language": "python",
   "notebook_metadata_filter": "-all"
  },
  "kernelspec": {
   "display_name": "Python 3 (ipykernel)",
   "language": "python",
   "name": "python3"
  },
  "language_info": {
   "codemirror_mode": {
    "name": "ipython",
    "version": 3
   },
   "file_extension": ".py",
   "mimetype": "text/x-python",
   "name": "python",
   "nbconvert_exporter": "python",
   "pygments_lexer": "ipython3",
   "version": "3.11.3"
  }
 },
 "nbformat": 4,
 "nbformat_minor": 5
}
